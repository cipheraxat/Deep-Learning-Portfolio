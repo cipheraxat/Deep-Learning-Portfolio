{
  "nbformat": 4,
  "nbformat_minor": 0,
  "metadata": {
    "colab": {
      "name": "fashionMNISTtraining.ipynb",
      "provenance": [],
      "collapsed_sections": [],
      "authorship_tag": "ABX9TyM407TCtfB/KuXOUfgRJUJZ",
      "include_colab_link": true
    },
    "kernelspec": {
      "name": "python3",
      "display_name": "Python 3"
    }
  },
  "cells": [
    {
      "cell_type": "markdown",
      "metadata": {
        "id": "view-in-github",
        "colab_type": "text"
      },
      "source": [
        "<a href=\"https://colab.research.google.com/github/cipheraxat/Deep-Learning-Portfolio/blob/master/Pytorch/Fashion%20MNIST/fashionMNISTtraining.ipynb\" target=\"_parent\"><img src=\"https://colab.research.google.com/assets/colab-badge.svg\" alt=\"Open In Colab\"/></a>"
      ]
    },
    {
      "cell_type": "code",
      "metadata": {
        "id": "Ko9lwq-Feosw",
        "colab_type": "code",
        "colab": {}
      },
      "source": [
        "#basic libraries\n",
        "\n",
        "import torch\n",
        "import torchvision\n"
      ],
      "execution_count": 40,
      "outputs": []
    },
    {
      "cell_type": "code",
      "metadata": {
        "id": "Ng2_C3YefTKJ",
        "colab_type": "code",
        "colab": {}
      },
      "source": [
        "#data loading and transforming\n",
        "\n",
        "from torchvision.datasets import FashionMNIST\n",
        "from torch.utils.data import DataLoader\n",
        "from torchvision import transforms"
      ],
      "execution_count": 41,
      "outputs": []
    },
    {
      "cell_type": "code",
      "metadata": {
        "id": "ZBcfsroxfyoA",
        "colab_type": "code",
        "colab": {
          "base_uri": "https://localhost:8080/",
          "height": 51
        },
        "outputId": "06877c20-05d3-492b-a8c6-6abafd7a92c2"
      },
      "source": [
        "from collections import OrderedDict\n",
        "\n",
        "#the output of torchvision datasets are PILImage images of range[0,1],\n",
        "#we transform them to tensors for input into a CNN\n",
        "\n",
        "##define a transform to read the data in as a tensor\n",
        "data_transform = transforms.ToTensor()\n",
        "\n",
        "#choose the training and test datasets\n",
        "train_data = FashionMNIST(root='./data', train=True, download=True, transform=data_transform)\n",
        "test_data = FashionMNIST(root='./data', train=False, download=True, transform=data_transform)\n",
        "\n",
        "#printing out the details about the training and test data\n",
        "print('Train data, number of images', len(train_data))\n",
        "print('Test data, number of images', len(test_data))"
      ],
      "execution_count": 42,
      "outputs": [
        {
          "output_type": "stream",
          "text": [
            "Train data, number of images 60000\n",
            "Test data, number of images 10000\n"
          ],
          "name": "stdout"
        }
      ]
    },
    {
      "cell_type": "code",
      "metadata": {
        "id": "xQ89kGqY13oT",
        "colab_type": "code",
        "colab": {}
      },
      "source": [
        "#preparing data loaders, set the batch size\n",
        "batch_size = 10\n",
        "\n",
        "train_loader = DataLoader(train_data, batch_size=batch_size, shuffle=True)\n",
        "test_loader = DataLoader(test_data, batch_size=batch_size, shuffle=True)\n",
        "\n",
        "\n",
        "#specifying the image classes\n",
        "classes = ['T-shirt/top', 'Trouser', 'Pullover', 'Dress', 'Coat', \n",
        "           'Sandal', 'Shirt', 'Sneaker', 'Bag', 'Ankle boot']"
      ],
      "execution_count": 43,
      "outputs": []
    },
    {
      "cell_type": "markdown",
      "metadata": {
        "id": "Uk7vXgim5n2S",
        "colab_type": "text"
      },
      "source": [
        "# Visualizing the training data"
      ]
    },
    {
      "cell_type": "markdown",
      "metadata": {
        "id": "SCge0vf46sQU",
        "colab_type": "text"
      },
      "source": [
        "### we use dataiter.next() .It loads random batch of image/label data. its plots the batch of images and lables in 2 x batch_size/2 grid."
      ]
    },
    {
      "cell_type": "code",
      "metadata": {
        "id": "ypKQ1i5j5uBY",
        "colab_type": "code",
        "colab": {
          "base_uri": "https://localhost:8080/",
          "height": 174
        },
        "outputId": "983a9568-ff75-4e97-f88b-1a6098b3083b"
      },
      "source": [
        "import numpy as np\n",
        "import matplotlib.pyplot as plt\n",
        "\n",
        "%matplotlib inline\n",
        "\n",
        "#obtains one batch of training images\n",
        "dataiter = iter(train_loader)\n",
        "images, labels =  dataiter.next()\n",
        "images =  images.numpy()\n",
        "\n",
        "#plot the images in the batch, along with the corresponding labels\n",
        "fig = plt.figure(figsize=(25, 4))\n",
        "for idx in np.arange(batch_size):\n",
        "   ax = fig.add_subplot(2, batch_size/2, idx+1, xticks=[], yticks=[])\n",
        "   ax.imshow(np.squeeze(images[idx]), cmap='gray')\n",
        "   ax.set_title(classes[labels[idx]]) "
      ],
      "execution_count": 44,
      "outputs": [
        {
          "output_type": "display_data",
          "data": {
            "image/png": "[encoded data removed]",
            "text/plain": [
              "<Figure size 1800x288 with 10 Axes>"
            ]
          },
          "metadata": {
            "tags": []
          }
        }
      ]
    },
    {
      "cell_type": "markdown",
      "metadata": {
        "id": "WVkKkKIi_fc_",
        "colab_type": "text"
      },
      "source": [
        "## Defining the network architecture"
      ]
    },
    {
      "cell_type": "markdown",
      "metadata": {
        "id": "_4hfIPt6AOLZ",
        "colab_type": "text"
      },
      "source": [
        "## The simple series of layers consists of:\n",
        "\n",
        "* Convolutional layers\n",
        "* Maxpooling layers\n",
        "* Fully-connected (linear) layers\n",
        "\n",
        "\n",
        "\n"
      ]
    },
    {
      "cell_type": "markdown",
      "metadata": {
        "id": "U52RahruAhd5",
        "colab_type": "text"
      },
      "source": [
        "### We will be using \n",
        "* Use at least two convolutional layers\n",
        "* Your output must be a linear layer with 10 outputs (for the 10 classes of clothing)\n",
        "* Use a dropout layer to avoid overfitting"
      ]
    },
    {
      "cell_type": "code",
      "metadata": {
        "id": "a1oFkrAAAf-u",
        "colab_type": "code",
        "colab": {
          "base_uri": "https://localhost:8080/",
          "height": 170
        },
        "outputId": "e278cf2a-e0ec-4cec-8ab2-a8773dc73856"
      },
      "source": [
        "import torch.nn as nn\n",
        "import torch.nn.functional as F\n",
        "\n",
        "class Net(nn.Module):\n",
        "\n",
        "    def __init__(self, drop_p):\n",
        "        super(Net, self).__init__()\n",
        "        \n",
        "        # 1 input image channel (grayscale), 10 output channels/feature maps\n",
        "        # 3x3 square convolution kernel\n",
        "        self.conv1 = nn.Conv2d(1, 10, 3, padding=1) #28x28x10\n",
        "        \n",
        "        ## TODO: Define the rest of the layers:\n",
        "        # include another conv layer, maxpooling layers, and linear layers\n",
        "        # also consider adding a dropout layer to avoid overfitting\n",
        "\n",
        "        self.pool1 = nn.MaxPool2d(2, 2)  #14x14x10\n",
        "        \n",
        "        self.drop1 = nn.Dropout(drop_p)\n",
        "       \n",
        "        self.conv2 = nn.Conv2d(10, 20, 3, padding=1) #14x14x20\n",
        "        self.pool2 = nn.MaxPool2d(2, 2)  #7x7x20\n",
        "        self.drop2 = nn.Dropout(drop_p)\n",
        "\n",
        "        self.linout = nn.Linear(7*7*20,10)\n",
        "        \n",
        "    ## TODO: define the feedforward behavior\n",
        "    def forward(self, x):\n",
        "        # one activated conv layer\n",
        "        layer1 = self.drop1(self.pool1(F.relu(self.conv1(x))))\n",
        "        layer2 = self.drop2(self.pool2(F.relu(self.conv2(layer1))))\n",
        "        \n",
        "        flat = layer2.view(layer2.size(0), -1)\n",
        "        out = self.linout(flat)\n",
        "        \n",
        "        # final output\n",
        "        return out\n",
        "\n",
        "# instantiate and print your Net\n",
        "net = Net(0.5)\n",
        "print(net)"
      ],
      "execution_count": 45,
      "outputs": [
        {
          "output_type": "stream",
          "text": [
            "Net(\n",
            "  (conv1): Conv2d(1, 10, kernel_size=(3, 3), stride=(1, 1), padding=(1, 1))\n",
            "  (pool1): MaxPool2d(kernel_size=2, stride=2, padding=0, dilation=1, ceil_mode=False)\n",
            "  (drop1): Dropout(p=0.5, inplace=False)\n",
            "  (conv2): Conv2d(10, 20, kernel_size=(3, 3), stride=(1, 1), padding=(1, 1))\n",
            "  (pool2): MaxPool2d(kernel_size=2, stride=2, padding=0, dilation=1, ceil_mode=False)\n",
            "  (drop2): Dropout(p=0.5, inplace=False)\n",
            "  (linout): Linear(in_features=980, out_features=10, bias=True)\n",
            ")\n"
          ],
          "name": "stdout"
        }
      ]
    },
    {
      "cell_type": "markdown",
      "metadata": {
        "id": "UEPWxfRnyzgp",
        "colab_type": "text"
      },
      "source": [
        "## Specify the loss function and optimizer\n"
      ]
    },
    {
      "cell_type": "markdown",
      "metadata": {
        "id": "wrLYL1xly92M",
        "colab_type": "text"
      },
      "source": [
        "### For a classification problem like this, one typically uses cross entropy loss by using criterion = nn.CrossEntropyLoss().\n",
        "Pytorch also includes some standard stochastic optimizers like stochastic gradient descent and adam."
      ]
    },
    {
      "cell_type": "code",
      "metadata": {
        "id": "JGdLQfotx2OM",
        "colab_type": "code",
        "colab": {}
      },
      "source": [
        "import torch.optim as optim\n",
        "\n",
        "## specify loss function (try categorical cross-entropy)\n",
        "criterion = nn.CrossEntropyLoss()\n",
        "\n",
        "## specify optimizer\n",
        "optimizer = optim.Adam(net.parameters(), lr = 0.01)"
      ],
      "execution_count": 46,
      "outputs": []
    },
    {
      "cell_type": "markdown",
      "metadata": {
        "id": "Ifnm6AXl9_Vv",
        "colab_type": "text"
      },
      "source": [
        "### A note on accuracy\n",
        "Its's interesting to look at the accuracy of your network Before and After training , in this way you will learn that your network has learned something."
      ]
    },
    {
      "cell_type": "code",
      "metadata": {
        "id": "op6KsDNr9gr9",
        "colab_type": "code",
        "colab": {
          "base_uri": "https://localhost:8080/",
          "height": 34
        },
        "outputId": "5c64029a-8371-46e2-cdad-e20ea01144c6"
      },
      "source": [
        "# calculating accuracy before training\n",
        "\n",
        "from torch.autograd import Variable\n",
        "\n",
        "correct = 0\n",
        "total = 0\n",
        "\n",
        "#iterating through the test dataset\n",
        "for images, labels in test_loader:\n",
        "\n",
        "    #warp input images in a Variable wrapper \n",
        "    images = Variable(images)\n",
        "\n",
        "    #forward pass to get outputs\n",
        "    #the outputs are a series of class scores\n",
        "    outputs = net.forward(images)\n",
        "\n",
        "    #get the predicted class from the maximum value in the output-list of class scores\n",
        "    _, predicted = torch.max(outputs.data, 1)\n",
        "\n",
        "    #count up total number of correct labels\n",
        "    #for which the predicted and true labels are equal\n",
        "    total += labels.size(0)\n",
        "    correct += (predicted == labels).sum()\n",
        "\n",
        "#calculate the accuracy\n",
        "accuracy = 100 * correct.item()/total\n",
        "\n",
        "#print the accuracy\n",
        "print('Accuracy before training:', accuracy)"
      ],
      "execution_count": 47,
      "outputs": [
        {
          "output_type": "stream",
          "text": [
            "Accuracy before training: 9.58\n"
          ],
          "name": "stdout"
        }
      ]
    },
    {
      "cell_type": "markdown",
      "metadata": {
        "id": "7WJFW9zZGRJB",
        "colab_type": "text"
      },
      "source": [
        "## Train the netwwork"
      ]
    },
    {
      "cell_type": "markdown",
      "metadata": {
        "id": "868hT6NBGpui",
        "colab_type": "text"
      },
      "source": [
        "The steps that this training function performs as it iterates over the training dataset:\n",
        "\n",
        "* Wraps all tensors in Variables\n",
        "* Zero's the gradients to prepare for a forward pass\n",
        "* Passes the input through the network (forward pass)\n",
        "* Computes the loss (how far is the predicted classes are from the correct labels)\n",
        "* Propagates gradients back into the network’s parameters (backward pass)\n",
        "* Updates the weights (parameter update)\n",
        "* Prints out the calculated loss"
      ]
    },
    {
      "cell_type": "code",
      "metadata": {
        "id": "Kx_7xbpND0wq",
        "colab_type": "code",
        "colab": {
          "base_uri": "https://localhost:8080/",
          "height": 34
        },
        "outputId": "4fc4e65a-596b-40e1-ec10-55d665e895e4"
      },
      "source": [
        "from torch.autograd import Variable\n",
        "\n",
        "def train(n_epochs):\n",
        "\n",
        "  for epoch in range(n_epochs): #loop over the dataset multiple times\n",
        "    \n",
        "      running_loss = 0.0\n",
        "      for batch_i, data in enumerate(train_loader):\n",
        "        #get the input images and their corresponding labels\n",
        "\n",
        "        inputs, labels = data\n",
        "\n",
        "        #wrap them in a torch Variable\n",
        "        #inputs, labels = Variable(inputs), Variable(labels)\n",
        "\n",
        "        #zero the parameter (weight gradients)\n",
        "        optimizer.zero_grad()\n",
        "\n",
        "        #forward pass to get outputs\n",
        "        outputs = net(inputs)\n",
        "\n",
        "        #calculate the loss\n",
        "        loss = criterion(outputs, labels)\n",
        "\n",
        "        #backward pass to calculate the parameter gradients\n",
        "        loss.backward()\n",
        "\n",
        "        #update the parameters\n",
        "        optimizer.step()\n",
        "\n",
        "        #print loss statistics to convert loss into a scalar and add it to running_loss, we use .item()\n",
        "        running_loss += loss.item()\n",
        "        if batch_i % 1000 == 999:  #prints every 1000 mini-batches\n",
        "            print('Epoch: {}, Batch: {}, Avg. Loss: {}'.format(epoch + 1, batch_i+1, running_loss/1000))\n",
        "            running_loss = 0.0\n",
        "\n",
        "print('Finished Training')            \n"
      ],
      "execution_count": 48,
      "outputs": [
        {
          "output_type": "stream",
          "text": [
            "Finished Training\n"
          ],
          "name": "stdout"
        }
      ]
    },
    {
      "cell_type": "code",
      "metadata": {
        "id": "pmKoUesrJbcP",
        "colab_type": "code",
        "colab": {
          "base_uri": "https://localhost:8080/",
          "height": 527
        },
        "outputId": "a290c7f5-809e-48f1-900f-c80eba1026b0"
      },
      "source": [
        "#define the number of epochs to train for\n",
        "n_epochs = 5 #start small to see if your model works, intially\n",
        "\n",
        "#call train\n",
        "train(n_epochs)"
      ],
      "execution_count": 52,
      "outputs": [
        {
          "output_type": "stream",
          "text": [
            "Epoch: 1, Batch: 1000, Avg. Loss: 0.4220197434052825\n",
            "Epoch: 1, Batch: 2000, Avg. Loss: 0.3954894227460027\n",
            "Epoch: 1, Batch: 3000, Avg. Loss: 0.41545305328498944\n",
            "Epoch: 1, Batch: 4000, Avg. Loss: 0.41843103801924736\n",
            "Epoch: 1, Batch: 5000, Avg. Loss: 0.42475058397091925\n",
            "Epoch: 1, Batch: 6000, Avg. Loss: 0.4253560676976922\n",
            "Epoch: 2, Batch: 1000, Avg. Loss: 0.40569228193257006\n",
            "Epoch: 2, Batch: 2000, Avg. Loss: 0.41880308764986696\n",
            "Epoch: 2, Batch: 3000, Avg. Loss: 0.4215263575972058\n",
            "Epoch: 2, Batch: 4000, Avg. Loss: 0.4079949621334672\n",
            "Epoch: 2, Batch: 5000, Avg. Loss: 0.40292696822807195\n",
            "Epoch: 2, Batch: 6000, Avg. Loss: 0.41415991001483055\n",
            "Epoch: 3, Batch: 1000, Avg. Loss: 0.39388138735014944\n",
            "Epoch: 3, Batch: 2000, Avg. Loss: 0.413601600591559\n",
            "Epoch: 3, Batch: 3000, Avg. Loss: 0.43183505701087416\n",
            "Epoch: 3, Batch: 4000, Avg. Loss: 0.4079549089577049\n",
            "Epoch: 3, Batch: 5000, Avg. Loss: 0.40717579833604395\n",
            "Epoch: 3, Batch: 6000, Avg. Loss: 0.41502362781297414\n",
            "Epoch: 4, Batch: 1000, Avg. Loss: 0.3974162594145164\n",
            "Epoch: 4, Batch: 2000, Avg. Loss: 0.4049165749726817\n",
            "Epoch: 4, Batch: 3000, Avg. Loss: 0.41115335558843796\n",
            "Epoch: 4, Batch: 4000, Avg. Loss: 0.4137122614001855\n",
            "Epoch: 4, Batch: 5000, Avg. Loss: 0.41706556918192655\n",
            "Epoch: 4, Batch: 6000, Avg. Loss: 0.4119003725987859\n",
            "Epoch: 5, Batch: 1000, Avg. Loss: 0.410701178512536\n",
            "Epoch: 5, Batch: 2000, Avg. Loss: 0.41898519587516786\n",
            "Epoch: 5, Batch: 3000, Avg. Loss: 0.39929080881597473\n",
            "Epoch: 5, Batch: 4000, Avg. Loss: 0.40430305744241923\n",
            "Epoch: 5, Batch: 5000, Avg. Loss: 0.41212945923302324\n",
            "Epoch: 5, Batch: 6000, Avg. Loss: 0.40829311346728353\n"
          ],
          "name": "stdout"
        }
      ]
    },
    {
      "cell_type": "markdown",
      "metadata": {
        "id": "wD_J765htWwX",
        "colab_type": "text"
      },
      "source": [
        "## Test the Trained Network\n",
        "\n",
        "For FashionMNIST, which contains many pre-processed training images, a good model should reach greater than 85% accuracy on this test dataset. If you are not reaching this value, try training for a larger number of epochs, tweaking your hyperparameters, or adding/subtracting layers from your CNN.\n"
      ]
    },
    {
      "cell_type": "code",
      "metadata": {
        "id": "ocg0OE05MVlG",
        "colab_type": "code",
        "colab": {
          "base_uri": "https://localhost:8080/",
          "height": 289
        },
        "outputId": "c4667aee-2e88-47cd-99fc-91ed3e0f25b0"
      },
      "source": [
        "#initialize tensor and lists to monitor test loss and accuracy\n",
        "\n",
        "test_loss = torch.zeros(1)\n",
        "class_correct = np.zeros(10)\n",
        "class_total = np.zeros(10)\n",
        "\n",
        "# set the moduke in evaluation mode\n",
        "net.eval()\n",
        "\n",
        "for batch_i, data in enumerate(test_loader):\n",
        "\n",
        "     #get the images and their corresponding labels\n",
        "     inputs, labels = data\n",
        "\n",
        "     with torch.no_grad():\n",
        "       #wrapping them in a torch variable\n",
        "       #volatile means we do not have to track how the inputs change\n",
        "\n",
        "       inputs, labels =  Variable(inputs), Variable(labels)\n",
        "\n",
        "       #forward pass to get outputs\n",
        "       outputs = net(inputs)\n",
        "\n",
        "       #calculate the loss\n",
        "       loss = criterion(outputs, labels)\n",
        "\n",
        "       #update the average test loss\n",
        "       test_loss = test_loss + ((torch.ones(1) / (batch_i +1))\n",
        "       * (loss.data - test_loss))\n",
        "\n",
        "       #get the unpredicted class from the maximum value in the output-list of class scores\n",
        "       _, predicted =  torch.max(outputs.data, 1)\n",
        "\n",
        "       #compare predictions to true label\n",
        "       correct = np.squeeze(predicted.eq(labels.data.view_as(predicted))).float()\n",
        "\n",
        "       #calculate test accuracy for *each* object class\n",
        "       for i in range(batch_size):\n",
        "          label = labels.data[i].item()\n",
        "          class_correct[label] += correct[i]\n",
        "          class_total[label] += 1\n",
        "\n",
        "print('Test Loss: {:.6f}\\n'.format(test_loss.numpy()[0]))\n",
        "print(correct.dtype)\n",
        "print(correct.size())\n",
        "\n",
        "for i in range(10):\n",
        "    if class_total[i] > 0:\n",
        "        print('Test Accuracy of %5s: %2d%% (%2d/%2d)' % (\n",
        "            classes[i], 100 * class_correct[i] / class_total[i],\n",
        "            np.sum(class_correct[i]), np.sum(class_total[i])))\n",
        "    else:\n",
        "        print('Test Accuracy of %5s: N/A (no Training examples' % (classes[i]))\n",
        "\n",
        "print('\\nTest Accuracy (Overall): %2d%% (%2d/%2d)' % (\n",
        "     100. * np.sum(class_correct) / np.sum(class_total),\n",
        "     np.sum(class_correct), np.sum(class_total)))            \n"
      ],
      "execution_count": 53,
      "outputs": [
        {
          "output_type": "stream",
          "text": [
            "Test Loss: 0.429956\n",
            "\n",
            "torch.float32\n",
            "torch.Size([10])\n",
            "Test Accuracy of T-shirt/top: 80% (801/1000)\n",
            "Test Accuracy of Trouser: 95% (957/1000)\n",
            "Test Accuracy of Pullover: 65% (650/1000)\n",
            "Test Accuracy of Dress: 87% (872/1000)\n",
            "Test Accuracy of  Coat: 83% (833/1000)\n",
            "Test Accuracy of Sandal: 95% (955/1000)\n",
            "Test Accuracy of Shirt: 54% (544/1000)\n",
            "Test Accuracy of Sneaker: 95% (951/1000)\n",
            "Test Accuracy of   Bag: 96% (963/1000)\n",
            "Test Accuracy of Ankle boot: 95% (952/1000)\n",
            "\n",
            "Test Accuracy (Overall): 84% (8478/10000)\n"
          ],
          "name": "stdout"
        }
      ]
    },
    {
      "cell_type": "markdown",
      "metadata": {
        "id": "RSzLWHDtAS9P",
        "colab_type": "text"
      },
      "source": [
        "## Visualize sample test results"
      ]
    },
    {
      "cell_type": "code",
      "metadata": {
        "id": "yziGYofj3V1p",
        "colab_type": "code",
        "colab": {
          "base_uri": "https://localhost:8080/",
          "height": 173
        },
        "outputId": "c504a210-a893-446f-c943-b585167cd294"
      },
      "source": [
        "#obtaining one batch of test image\n",
        "dataiter = iter(test_loader)\n",
        "images, labels = dataiter.next()\n",
        "\n",
        "#get predictions\n",
        "with torch.no_grad():\n",
        "   preds = np.squeeze(net(Variable(images)).data.max(1, keepdim=True)[1].numpy())\n",
        "images = images.numpy()\n",
        "\n",
        "#plot the images in the batch, along with predicted and true labels\n",
        "fig = plt.figure(figsize=(25, 4))\n",
        "for idx in np.arange(batch_size):\n",
        "   ax = fig.add_subplot(2, batch_size/2, idx+1, xticks=[], yticks=[])\n",
        "   ax.imshow(np.squeeze(images[idx]), cmap='gray')\n",
        "   ax.set_title(\"{} ({})\".format(classes[preds[idx]], classes[labels[idx]]),\n",
        "                 color=(\"green\" if preds[idx]==labels[idx] else \"red\"))"
      ],
      "execution_count": 54,
      "outputs": [
        {
          "output_type": "display_data",
          "data": {
            "image/png": "[encoded data removed]",
            "text/plain": [
              "<Figure size 1800x288 with 10 Axes>"
            ]
          },
          "metadata": {
            "tags": []
          }
        }
      ]
    },
    {
      "cell_type": "code",
      "metadata": {
        "id": "kjq1FAcACgvl",
        "colab_type": "code",
        "colab": {}
      },
      "source": [
        "model_dir = 'saved_models/'\n",
        "model_name = 'model_1.pt'\n",
        "# after training, save your model parameters in the dir 'saved_models'\n",
        "# when you're ready, un-comment the line below\n",
        "torch.save(net.state_dict(), model_dir+model_name)"
      ],
      "execution_count": null,
      "outputs": []
    },
    {
      "cell_type": "markdown",
      "metadata": {
        "id": "YERe1ZbfDLLQ",
        "colab_type": "text"
      },
      "source": [
        "## Load a Trained, Saved Mode\n",
        "To instantiate a trained model, you'll first instantiate a new Net() and then initialize it with a saved dictionary of parameters (from the save step above)."
      ]
    },
    {
      "cell_type": "code",
      "metadata": {
        "id": "ijkYCLXaDA-J",
        "colab_type": "code",
        "colab": {}
      },
      "source": [
        "# instantiate your Net\n",
        "# this refers to your Net class defined above\n",
        "net = Net()\n",
        "\n",
        "# load the net parameters by name\n",
        "# uncomment and write the name of a saved model\n",
        "#net.load_state_dict(torch.load('saved_models/model_1.pt'))\n",
        "\n",
        "print(net)\n",
        "\n",
        "# Once you've loaded a specific model in, you can then \n",
        "# us it or further analyze it! \n",
        "# This will be especialy useful for feature visualization"
      ],
      "execution_count": null,
      "outputs": []
    },
    {
      "cell_type": "code",
      "metadata": {
        "id": "qMbNXw2RDcRy",
        "colab_type": "code",
        "colab": {}
      },
      "source": [
        ""
      ],
      "execution_count": null,
      "outputs": []
    }
  ]
}